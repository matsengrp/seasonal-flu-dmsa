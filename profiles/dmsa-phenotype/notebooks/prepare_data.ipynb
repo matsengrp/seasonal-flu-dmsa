{
 "cells": [
  {
   "cell_type": "markdown",
   "metadata": {},
   "source": [
    "# Prepare data for Nextstrain workflow"
   ]
  },
  {
   "cell_type": "markdown",
   "metadata": {},
   "source": [
    "## Import `Python` modules"
   ]
  },
  {
   "cell_type": "code",
   "execution_count": 1,
   "metadata": {},
   "outputs": [],
   "source": [
    "import os\n",
    "import sys\n",
    "import glob\n",
    "import pandas as pd\n",
    "from collections import defaultdict\n",
    "import lzma\n",
    "\n",
    "import numpy as np\n",
    "import matplotlib\n",
    "import matplotlib.pyplot as plt\n",
    "%matplotlib inline\n",
    "import seaborn as sns\n",
    "\n",
    "from Bio import SeqIO\n",
    "from Bio.Seq import MutableSeq"
   ]
  },
  {
   "cell_type": "markdown",
   "metadata": {},
   "source": [
    "## Take files with all GISAID sequences and metadata and create new files with a subset of the sequences"
   ]
  },
  {
   "cell_type": "code",
   "execution_count": 2,
   "metadata": {},
   "outputs": [
    {
     "name": "stdout",
     "output_type": "stream",
     "text": [
      "1478 strains to extract\n"
     ]
    }
   ],
   "source": [
    "# Get a list of strains from a recent 12yr build\n",
    "ack_df = pd.read_csv('profiles/dmsa-phenotype/sequences/nextstrain_flu_seasonal_h3n2_ha_12y_acknowledgements.tsv', sep='\\t')\n",
    "strains_to_extract = list(ack_df['strain'].unique())\n",
    "print(len(strains_to_extract), 'strains to extract')\n",
    "\n",
    "# Get metadata for reference sequence\n",
    "ref_metadata_df = pd.read_csv('profiles/dmsa-phenotype/sequences/6y_metadata_w_HK19.tsv.xz', sep='\\t')\n",
    "ref_metadata_df = ref_metadata_df[ref_metadata_df['strain'] == 'A/HK/45/2019']\n",
    "\n",
    "# Read in metadata for all sequences, then write an output with subset from 12yr build plus reference\n",
    "all_metadata_df = pd.read_csv('profiles/dmsa-phenotype/sequences/metadata.tsv.xz', sep='\\t')\n",
    "metadata_12yr_df = all_metadata_df[all_metadata_df['strain'].isin(strains_to_extract)]\n",
    "output_f = 'profiles/dmsa-phenotype/sequences/12y_metadata.tsv'\n",
    "if not os.path.isfile(output_f):\n",
    "    print(f'Extracted {len(metadata_12yr_df)} strains from metadata')\n",
    "    metadata_12yr_df = pd.concat([metadata_12yr_df, ref_metadata_df])\n",
    "    metadata_12yr_df.to_csv(output_f, index=False)\n",
    "\n",
    "# Get FASTA entry for reference sequence \n",
    "input_f = 'profiles/dmsa-phenotype/sequences/6y_sequences_w_HK19.fasta.xz'\n",
    "with lzma.open(input_f, mode='rt', encoding='utf-8') as f:\n",
    "    for record in SeqIO.parse(f, 'fasta'):\n",
    "        if record.id == 'A/HK/45/2019':\n",
    "            ref_id = record.id\n",
    "            ref_seq = record.seq\n",
    "\n",
    "# Read in FASTA of all sequences, then write an output with subset from 12yr build plus reference\n",
    "input_f = 'profiles/dmsa-phenotype/sequences/sequences.fasta.xz'\n",
    "output_f = 'profiles/dmsa-phenotype/sequences/12y_sequences.fasta'\n",
    "if not os.path.isfile(output_f):\n",
    "    seqs_extracted = 0\n",
    "    with lzma.open(input_f, mode='rt', encoding='utf-8') as fasta_f:\n",
    "        with open(output_f, 'w') as f:\n",
    "            for record in SeqIO.parse(fasta_f, 'fasta'):\n",
    "                if record.id in strains_to_extract:\n",
    "                    f.write(f'>{record.id}\\n{record.seq}\\n')\n",
    "                    seqs_extracted += 1\n",
    "            f.write(f'>{ref_id}\\n{ref_seq}\\n')\n",
    "    print(f'Extracted {seqs_extracted} from the FASTA file')"
   ]
  },
  {
   "cell_type": "markdown",
   "metadata": {},
   "source": [
    "Save a file with the GISAID accession number for each strain, along with data acknowledging contributing labs."
   ]
  },
  {
   "cell_type": "code",
   "execution_count": 9,
   "metadata": {},
   "outputs": [],
   "source": [
    "metadata_12yr_df[[\n",
    "    'strain', 'virus', 'accession_ha', 'originating_lab', 'submitting_lab'\n",
    "]].to_csv('profiles/dmsa-phenotype/sequences/nextstrain_flu_seasonal_h3n2_ha_12y_acknowledgements_and_accession_numbers.tsv', sep='\\t', index=False)"
   ]
  },
  {
   "cell_type": "markdown",
   "metadata": {},
   "source": [
    "## Curate files with mutational effects"
   ]
  },
  {
   "cell_type": "markdown",
   "metadata": {},
   "source": [
    "First, read in files with all mutational effects and then make new files with only mutations that pass certain filters, such as the number of times a mutation was observed in the experiment."
   ]
  },
  {
   "cell_type": "code",
   "execution_count": 3,
   "metadata": {},
   "outputs": [],
   "source": [
    "times_seen = 3\n",
    "n_models = 2\n",
    "mut_effects_dir = 'profiles/dmsa-phenotype/antibody_escape/'\n",
    "filtered_mut_effects_dir = os.path.join(mut_effects_dir, 'filtered_data/')\n",
    "if not os.path.isdir(filtered_mut_effects_dir):\n",
    "    os.makedirs(filtered_mut_effects_dir)\n",
    "fs = glob.glob(os.path.join(mut_effects_dir, '*_avg.csv'))\n",
    "for f in fs:\n",
    "    output_f = f.replace(mut_effects_dir, filtered_mut_effects_dir)\n",
    "    if not os.path.isfile(output_f):\n",
    "        df = pd.read_csv(f)\n",
    "        starting_len = len(df)\n",
    "        df = df[\n",
    "            (df['times_seen'] >= times_seen) &\n",
    "            (df['n_models'] >= n_models)\n",
    "        ]\n",
    "        ending_len = len(df)\n",
    "        #print(starting_len, ending_len, os.path.basename(f))\n",
    "        if ending_len > 0:\n",
    "            df.to_csv(output_f, index=False)"
   ]
  },
  {
   "cell_type": "markdown",
   "metadata": {},
   "source": [
    "Get data on the cohort associated with a given serum sample"
   ]
  },
  {
   "cell_type": "code",
   "execution_count": 4,
   "metadata": {},
   "outputs": [],
   "source": [
    "cohort_dict = {\n",
    "    'children' : [\n",
    "        3944,\n",
    "        2389,\n",
    "        2323,\n",
    "        2388,\n",
    "        3973,\n",
    "        4299,\n",
    "        4584,\n",
    "        2367,\n",
    "    ],\n",
    "    'teenagers' : [\n",
    "        2350,\n",
    "        2365,\n",
    "        2382,\n",
    "        3866,\n",
    "        2380,\n",
    "        3856, # outlier\n",
    "        3857,\n",
    "        3862,\n",
    "    ],\n",
    "    'adults' : [\n",
    "        '33C',\n",
    "        '34C',\n",
    "        '197C',\n",
    "        '199C',\n",
    "        '215C',\n",
    "        '210C',\n",
    "        '74C',\n",
    "        '68C',\n",
    "        '150C',\n",
    "        '18C',\n",
    "    ],\n",
    "    'elderly' : [\n",
    "        'AUSAB-13'\n",
    "    ],\n",
    "    'infant' : [\n",
    "        2462\n",
    "    ]\n",
    "}\n",
    "serum_to_cohort_dict = defaultdict(list)\n",
    "for (cohort, sera) in cohort_dict.items():\n",
    "    for serum in sera:\n",
    "        serum_to_cohort_dict['cohort'].append(cohort)\n",
    "        serum_to_cohort_dict['serum'].append(str(serum))\n",
    "serum_to_cohort_df = pd.DataFrame(serum_to_cohort_dict)"
   ]
  },
  {
   "cell_type": "markdown",
   "metadata": {},
   "source": [
    "Average mutational effects across all sera in a given cohort"
   ]
  },
  {
   "cell_type": "code",
   "execution_count": 5,
   "metadata": {},
   "outputs": [],
   "source": [
    "cohorts = [\n",
    "    'children', 'teenagers', 'adults'\n",
    "    ]\n",
    "for cohort in cohorts:\n",
    "    sera = cohort_dict[cohort]\n",
    "    dfs = []\n",
    "    for serum in sera:\n",
    "        f = os.path.join(filtered_mut_effects_dir, f'{serum}_avg.csv')\n",
    "        assert os.path.isfile(f)\n",
    "        df = pd.read_csv(f)\n",
    "        df['serum'] = serum\n",
    "        dfs.append(df)\n",
    "    df = pd.concat(dfs)\n",
    "    df.groupby(['mutation'])[['escape_median']].mean().reset_index()\n",
    "    output_f = os.path.join(filtered_mut_effects_dir, f'avg_{cohort}.csv')\n",
    "    if not os.path.isfile(output_f):\n",
    "        df.to_csv(output_f, index=False)"
   ]
  }
 ],
 "metadata": {
  "kernelspec": {
   "display_name": "Python 3",
   "language": "python",
   "name": "python3"
  },
  "language_info": {
   "codemirror_mode": {
    "name": "ipython",
    "version": 3
   },
   "file_extension": ".py",
   "mimetype": "text/x-python",
   "name": "python",
   "nbconvert_exporter": "python",
   "pygments_lexer": "ipython3",
   "version": "3.9.16"
  },
  "orig_nbformat": 4
 },
 "nbformat": 4,
 "nbformat_minor": 2
}
